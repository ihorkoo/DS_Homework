{
 "cells": [
  {
   "cell_type": "code",
   "execution_count": 4,
   "metadata": {},
   "outputs": [
    {
     "name": "stdout",
     "output_type": "stream",
     "text": [
      "Hello, word!!!\n",
      "\n",
      "Hello, word 2!!!\n"
     ]
    }
   ],
   "source": [
    "#\n",
    "f = open(r'text.txt')\n",
    "print(f.read())\n",
    "\n",
    "f.close()"
   ]
  },
  {
   "cell_type": "code",
   "execution_count": 5,
   "metadata": {},
   "outputs": [
    {
     "name": "stdout",
     "output_type": "stream",
     "text": [
      "['Hello, word!!!\\n', '\\n', 'Hello, word 2!!!']\n"
     ]
    }
   ],
   "source": [
    "f = open(r'text.txt')\n",
    "l = f.readlines()\n",
    "print(l)\n",
    "f.close()"
   ]
  },
  {
   "cell_type": "code",
   "execution_count": null,
   "metadata": {},
   "outputs": [],
   "source": [
    "f = open(r'text.txt')\n",
    "for line in f:\n",
    "    print(line)\n",
    "\n",
    "f.close()"
   ]
  },
  {
   "cell_type": "code",
   "execution_count": null,
   "metadata": {},
   "outputs": [],
   "source": [
    "\n",
    "for line in open(r'text.txt'):\n",
    "    print(line)\n",
    "\n"
   ]
  },
  {
   "cell_type": "code",
   "execution_count": 7,
   "metadata": {},
   "outputs": [
    {
     "name": "stdout",
     "output_type": "stream",
     "text": [
      "Hello, wor\n"
     ]
    }
   ],
   "source": [
    "with open(r'text.txt') as f:\n",
    "    print(f.read(10))"
   ]
  },
  {
   "cell_type": "code",
   "execution_count": 9,
   "metadata": {},
   "outputs": [],
   "source": [
    "with open('text.txt', 'w') as f:\n",
    "    f.write('aaaaa bbbbb')"
   ]
  },
  {
   "cell_type": "code",
   "execution_count": 12,
   "metadata": {},
   "outputs": [],
   "source": [
    "with open('text.txt', 'a') as f:\n",
    "    f.write('\\n' + 'Hello word!')"
   ]
  },
  {
   "cell_type": "code",
   "execution_count": 53,
   "metadata": {},
   "outputs": [],
   "source": [
    "with open('text.txt', 'r+') as f:\n",
    "    \n",
    "    f.write('123')\n",
    "    "
   ]
  },
  {
   "cell_type": "code",
   "execution_count": 72,
   "metadata": {},
   "outputs": [],
   "source": [
    "f = open('text.txt', encoding = 'utf-8')\n",
    "\n",
    "base = {}\n",
    "\n",
    "for line in f:\n",
    "    l = line.split('|')\n",
    "    if l[0] != 'Артикул':\n",
    "        base[l[0]] = [l[1], l[2], float(l[3].rstrip(' грн\\n'))]\n",
    "        "
   ]
  },
  {
   "cell_type": "code",
   "execution_count": 73,
   "metadata": {},
   "outputs": [
    {
     "name": "stdout",
     "output_type": "stream",
     "text": [
      "Кількість товару в наявності = 9\n"
     ]
    }
   ],
   "source": [
    "i = 0\n",
    "for k,v in base.items():\n",
    "    if v[1] == 'В наличии':\n",
    "        i = i + 1\n",
    "        \n",
    "print('Кількість товару в наявності =', i)"
   ]
  },
  {
   "cell_type": "code",
   "execution_count": 80,
   "metadata": {},
   "outputs": [
    {
     "data": {
      "text/plain": [
       "'B81431'"
      ]
     },
     "execution_count": 80,
     "metadata": {},
     "output_type": "execute_result"
    }
   ],
   "source": [
    "max(base, key = lambda el: base[el][2])"
   ]
  },
  {
   "cell_type": "code",
   "execution_count": 79,
   "metadata": {},
   "outputs": [
    {
     "name": "stdout",
     "output_type": "stream",
     "text": [
      "B81431 798.0\n"
     ]
    }
   ],
   "source": [
    "my_max = 0\n",
    "part = None\n",
    "for k,v in base.items():\n",
    "    if my_max < v[2]:\n",
    "        my_max = v[2]\n",
    "        part = k\n",
    "print(part, my_max) \n",
    "    "
   ]
  },
  {
   "cell_type": "code",
   "execution_count": 17,
   "metadata": {},
   "outputs": [
    {
     "name": "stdout",
     "output_type": "stream",
     "text": [
      "study - правильно\n",
      "school - правильно\n",
      "uniwerse - неправильно\n"
     ]
    }
   ],
   "source": [
    "import requests\n",
    "from bs4 import BeautifulSoup\n",
    "\n",
    "headers = {'User-Agent':\n",
    "           'Mozilla/5.0 (Macintosh; Intel Mac OS X 10_10_1) AppleWebKit/537.36 (KHTML, like Gecko) Chrome/39.0.2171.95 Safari/537.36'}\n",
    "\n",
    "words = ['study', 'school', 'uniwerse']\n",
    "\n",
    "for el in words:\n",
    "    r = requests.get('https://www.google.com.ua/search?', params={'q':el}, headers=headers)\n",
    "    soup = BeautifulSoup(r.text, 'html.parser')\n",
    "    if len(soup.find_all('span', class_='gL9Hy')) > 0:\n",
    "        print(el, '- неправильно')\n",
    "    else:\n",
    "        print(el, '- правильно')\n"
   ]
  },
  {
   "cell_type": "code",
   "execution_count": 21,
   "metadata": {},
   "outputs": [],
   "source": [
    "from bs4 import BeautifulSoup\n",
    "soup = BeautifulSoup(r.text, 'html.parser')"
   ]
  },
  {
   "cell_type": "code",
   "execution_count": 33,
   "metadata": {},
   "outputs": [
    {
     "data": {
      "text/plain": [
       "[<span class=\"gL9Hy\">Відображення результатів для запиту:</span>]"
      ]
     },
     "execution_count": 33,
     "metadata": {},
     "output_type": "execute_result"
    }
   ],
   "source": [
    "soup.find_all('span', class_='gL9Hy')"
   ]
  },
  {
   "cell_type": "code",
   "execution_count": null,
   "metadata": {},
   "outputs": [],
   "source": [
    "#1 Для введеного коду валюти вивести курс\n",
    "cc = input(\"Введіть код валюти\")\n",
    "print(f'Курс валюти {cc} = {rate}')\n",
    "\n",
    "#2 Знайти валюту, в якої максимальний курс\n",
    "print(f'Найдорожчий курс {name} = {rate}')"
   ]
  },
  {
   "cell_type": "code",
   "execution_count": 3,
   "metadata": {},
   "outputs": [
    {
     "name": "stdout",
     "output_type": "stream",
     "text": [
      "Австралійський долар\n",
      "Канадський долар\n",
      "Юань Женьміньбі\n",
      "Куна\n",
      "Чеська крона\n",
      "Данська крона\n",
      "Гонконгівський долар\n",
      "Форинт\n",
      "Індійська рупія\n",
      "Рупія\n",
      "Новий ізраїльський шекель\n",
      "Єна\n",
      "Теньге\n",
      "Вона\n",
      "Мексиканське песо\n",
      "Молдовський лей\n",
      "Новозеландський долар\n",
      "Норвезька крона\n",
      "Російський рубль\n",
      "Саудівський ріял\n",
      "Сінгапурський долар\n",
      "Ренд\n",
      "Шведська крона\n",
      "Швейцарський франк\n",
      "Єгипетський фунт\n",
      "Фунт стерлінгів\n",
      "Долар США\n",
      "Білоруський рубль\n",
      "Азербайджанський манат\n",
      "Румунський лей\n",
      "Турецька ліра\n",
      "СПЗ (спеціальні права запозичення)\n",
      "Болгарський лев\n",
      "Євро\n",
      "Злотий\n",
      "Алжирський динар\n",
      "Така\n",
      "Вірменський драм\n",
      "Іранський ріал\n",
      "Іракський динар\n",
      "Сом\n",
      "Ліванський фунт\n",
      "Лівійський динар\n",
      "Малайзійський ринггіт\n",
      "Марокканський дирхам\n",
      "Донг\n",
      "Бат\n",
      "Дирхам ОАЕ\n",
      "Туніський динар\n",
      "Узбецький сум\n",
      "Новий тайванський долар\n",
      "Туркменський новий манат\n",
      "Ганське седі\n",
      "Сербський динар\n",
      "Сомоні\n",
      "Ларі\n",
      "Бразильський реал\n",
      "Золото\n",
      "Срібло\n",
      "Платина\n",
      "Паладій\n"
     ]
    }
   ],
   "source": [
    "r = requests.get('https://bank.gov.ua/NBUStatService/v1/statdirectory/exchange?json').json()\n",
    "for el in r:\n",
    "    print(el['txt'])"
   ]
  },
  {
   "cell_type": "code",
   "execution_count": null,
   "metadata": {},
   "outputs": [],
   "source": []
  },
  {
   "cell_type": "code",
   "execution_count": 2,
   "metadata": {},
   "outputs": [],
   "source": [
    "import requests\n",
    "from bs4 import BeautifulSoup\n",
    "\n",
    "r = requests.get('https://sweet.tv/movies/multfilmi')\n",
    "soup = BeautifulSoup(r.text, 'html.parser')"
   ]
  },
  {
   "cell_type": "code",
   "execution_count": 13,
   "metadata": {},
   "outputs": [
    {
     "data": {
      "text/plain": [
       "{'Поллі Покет: 2 Сезон': {'href': 'https://sweet.tv/movie/20822-polli-poket-2-sezon'},\n",
       " 'Альфа та Омега: Зубата братва': {'href': 'https://sweet.tv/movie/6120-alfa-ta-omega-zubata-bratva'},\n",
       " 'Смурфики': {'href': 'https://sweet.tv/movie/7351-smurfiki'},\n",
       " 'Пожежник Сем: 8 Сезон': {'href': 'https://sweet.tv/movie/20808-pozhezhnik-sem-8-sezon'},\n",
       " 'Полювання на монстра': {'href': 'https://sweet.tv/movie/9135-polyuvannya-na-monstra'},\n",
       " 'Шерлок Гномс': {'href': 'https://sweet.tv/movie/16183-sherlok-gnoms'},\n",
       " 'Ману': {'href': 'https://sweet.tv/movie/20795-manu'},\n",
       " 'Риф. Нові пригоди': {'href': 'https://sweet.tv/movie/20794-rif-novi-prigodi'},\n",
       " 'Монстр у Парижі': {'href': 'https://sweet.tv/movie/6875-monstr-u-parizhi'},\n",
       " 'Супер шістка': {'href': 'https://sweet.tv/movie/16478-super-shistka'},\n",
       " 'Індики: повернення в майбутнє': {'href': 'https://sweet.tv/movie/7954-indiki-povernennya-v-maybutnye'},\n",
       " 'Ніко 2': {'href': 'https://sweet.tv/movie/7232-niko-2'},\n",
       " 'Темна Ліга Справедливості: Війна Апокаліпса': {'href': 'https://sweet.tv/movie/20463-temna-liga-spravedlivosti-viyna-apokalipsa'},\n",
       " 'Реальна білка 2': {'href': 'https://sweet.tv/movie/11911-realna-bilka-2'},\n",
       " 'Повернення гномів': {'href': 'https://sweet.tv/movie/20777-povernennya-gnomiv'},\n",
       " 'Коко': {'href': 'https://sweet.tv/movie/19876-koko'},\n",
       " 'Бджілка Майя: 2 Сезон': {'href': 'https://sweet.tv/movie/11561-bdzhilka-mayya-2-sezon'},\n",
       " 'Інуї: 2 сезон': {'href': 'https://sweet.tv/movie/16546-inuji-2-sezon'},\n",
       " 'Таємна місія Санти': {'href': 'https://sweet.tv/movie/7276-tayemna-misiya-santi'},\n",
       " 'Робокар Полі 2 сезон': {'href': 'https://sweet.tv/movie/20760-robokar-poli-2-sezon'},\n",
       " 'Супер монстри: 2 сезон': {'href': 'https://sweet.tv/movie/20759-super-monstri-2-sezon'},\n",
       " 'Angry Birds у кіно 2': {'href': 'https://sweet.tv/movie/17780-angry-birds-u-kino-2'},\n",
       " 'Ведмедики Буні: Стрибок у минуле': {'href': 'https://sweet.tv/movie/20697-vedmediki-buni-stribok-u-minule'},\n",
       " 'Єті': {'href': 'https://sweet.tv/movie/19490-yeti'},\n",
       " 'Інуї: 1 сезон': {'href': 'https://sweet.tv/movie/11566-inuji-1-sezon'},\n",
       " 'Робокар Полі': {'href': 'https://sweet.tv/movie/7773-robokar-poli'},\n",
       " 'Добрий динозавр': {'href': 'https://sweet.tv/movie/20347-dobriy-dinozavr'},\n",
       " 'Подружки-супергерої: 1 Сезон': {'href': 'https://sweet.tv/movie/17241-podruzhki-supergeroji-1-sezon'},\n",
       " 'Людина-павук: Навколо всесвіту': {'href': 'https://sweet.tv/movie/17809-lyudina-pavuk-navkolo-vsesvitu'},\n",
       " 'Принцеса Лебідь: Королівське весілля': {'href': 'https://sweet.tv/movie/20415-princesa-lebid-korolivske-vesillya'}}"
      ]
     },
     "execution_count": 13,
     "metadata": {},
     "output_type": "execute_result"
    }
   ],
   "source": [
    "all_movies = {}\n",
    "for el in soup.find_all('li', class_=\"film-item-container\"):\n",
    "    name_movie =  el.find('a').get('title')\n",
    "    all_movies[name_movie] = {'href' : el.find('a').get('href')}\n",
    "    \n",
    "all_movies"
   ]
  },
  {
   "cell_type": "code",
   "execution_count": 29,
   "metadata": {},
   "outputs": [],
   "source": [
    "def req(href):\n",
    "    r = requests.get(href)\n",
    "    soup = BeautifulSoup(r.text, 'html.parser')\n",
    "    return soup\n",
    "    \n",
    "\n",
    "\n",
    "for movie in all_movies:\n",
    "    soup = req(all_movies[movie]['href'])\n",
    "    people = []\n",
    "    for el in soup.find_all('a', itemprop=\"actor\"):\n",
    "        people.append(el.text)\n",
    "    all_movies[movie]['people'] = people\n"
   ]
  },
  {
   "cell_type": "code",
   "execution_count": 30,
   "metadata": {},
   "outputs": [],
   "source": [
    "import datetime"
   ]
  },
  {
   "cell_type": "code",
   "execution_count": 34,
   "metadata": {},
   "outputs": [],
   "source": [
    "d = datetime.date(2021, 11, 11)"
   ]
  },
  {
   "cell_type": "code",
   "execution_count": 38,
   "metadata": {},
   "outputs": [
    {
     "data": {
      "text/plain": [
       "'2021-11-11'"
      ]
     },
     "execution_count": 38,
     "metadata": {},
     "output_type": "execute_result"
    }
   ],
   "source": [
    "d.isoformat()"
   ]
  },
  {
   "cell_type": "code",
   "execution_count": 50,
   "metadata": {},
   "outputs": [
    {
     "name": "stdout",
     "output_type": "stream",
     "text": [
      "Help on built-in function strftime:\n",
      "\n",
      "strftime(...) method of datetime.date instance\n",
      "    format -> strftime() style string.\n",
      "\n"
     ]
    }
   ],
   "source": [
    "help(d.strftime)"
   ]
  },
  {
   "cell_type": "code",
   "execution_count": 55,
   "metadata": {},
   "outputs": [],
   "source": [
    "d = datetime.datetime(2021, 11, 11)"
   ]
  },
  {
   "cell_type": "code",
   "execution_count": 56,
   "metadata": {},
   "outputs": [
    {
     "data": {
      "text/plain": [
       "datetime.datetime(2021, 11, 11, 0, 0)"
      ]
     },
     "execution_count": 56,
     "metadata": {},
     "output_type": "execute_result"
    }
   ],
   "source": [
    "d"
   ]
  },
  {
   "cell_type": "code",
   "execution_count": 70,
   "metadata": {},
   "outputs": [
    {
     "data": {
      "text/plain": [
       "datetime.datetime(2020, 11, 30, 20, 4, 41, 522425)"
      ]
     },
     "execution_count": 70,
     "metadata": {},
     "output_type": "execute_result"
    }
   ],
   "source": [
    "datetime.datetime.now() - datetime.timedelta(days=1)"
   ]
  },
  {
   "cell_type": "code",
   "execution_count": 74,
   "metadata": {},
   "outputs": [
    {
     "name": "stdout",
     "output_type": "stream",
     "text": [
      "Введіть дату народження10-10-2010\n"
     ]
    },
    {
     "data": {
      "text/plain": [
       "3705"
      ]
     },
     "execution_count": 74,
     "metadata": {},
     "output_type": "execute_result"
    }
   ],
   "source": [
    "birthday = input('Введіть дату народження')\n",
    "delta = datetime.datetime.now() - datetime.datetime.strptime(birthday, '%d-%m-%Y')\n",
    "delta.days"
   ]
  }
 ],
 "metadata": {
  "kernelspec": {
   "display_name": "Python 3",
   "language": "python",
   "name": "python3"
  },
  "language_info": {
   "codemirror_mode": {
    "name": "ipython",
    "version": 3
   },
   "file_extension": ".py",
   "mimetype": "text/x-python",
   "name": "python",
   "nbconvert_exporter": "python",
   "pygments_lexer": "ipython3",
   "version": "3.7.6"
  }
 },
 "nbformat": 4,
 "nbformat_minor": 4
}
