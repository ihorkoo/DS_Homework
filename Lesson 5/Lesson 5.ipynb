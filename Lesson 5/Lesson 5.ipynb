{
 "cells": [
  {
   "cell_type": "code",
   "execution_count": 64,
   "metadata": {},
   "outputs": [],
   "source": [
    "table_product = \"\"\"CREATE TABLE Product (\n",
    "                      part TEXT PRIMARY KEY, \n",
    "                      part_name TEXT NOT NULL,\n",
    "                      weight REAL\n",
    "                      )\"\"\"\n",
    "\n",
    "table_cost = \"\"\"CREATE TABLE Cost (\n",
    "                  part TEXT,\n",
    "                  cost_date DATETIME NOT NULL,\n",
    "                  cost REAl NOT NULL,\n",
    "                  FOREIGN KEY (part) REFERENCES Product (part)\n",
    "                  )\"\"\"\n",
    "\n",
    "table_stock = \"\"\"CREATE TABLE Stock (\n",
    "                  part TEXT,\n",
    "                  operation_date DATETIME NOT NULL,\n",
    "                  qty INTEGER NOT NULL,\n",
    "                  cost REAL  NOT NULL,\n",
    "                  operation_type TEXT NOT NULL,\n",
    "                  FOREIGN KEY (part) REFERENCES Product (part)\n",
    "                  )\"\"\""
   ]
  },
  {
   "cell_type": "code",
   "execution_count": 65,
   "metadata": {},
   "outputs": [],
   "source": [
    "# створюємо таблиці в БД\n",
    "import sqlite3\n",
    "conn = sqlite3.connect('store.db')\n",
    "\n",
    "curs = conn.cursor()\n",
    "\n",
    "curs.execute(table_product)\n",
    "curs.execute(table_cost)\n",
    "curs.execute(table_stock)\n",
    "\n",
    "conn.close()"
   ]
  },
  {
   "cell_type": "code",
   "execution_count": 66,
   "metadata": {},
   "outputs": [
    {
     "name": "stdout",
     "output_type": "stream",
     "text": [
      "Введіть артикул товаруre509672\n",
      "Введіть назву товаруFilter\n",
      "Введіть вагу товару300\n"
     ]
    }
   ],
   "source": [
    "# вносимо інформацію в таблицю Prodcut\n",
    "\n",
    "conn = sqlite3.connect('store.db')\n",
    "curs = conn.cursor()\n",
    "sql_text = \"\"\"INSERT INTO Product VALUES(?, ?, ?)\"\"\"\n",
    "\n",
    "part = input('Введіть артикул товару')\n",
    "part_name = input('Введіть назву товару')\n",
    "weight = float(input('Введіть вагу товару'))\n",
    "\n",
    "curs.execute(sql_text, (part, part_name, weight))\n",
    "conn.commit()\n",
    "\n",
    "conn.close()"
   ]
  },
  {
   "cell_type": "code",
   "execution_count": 67,
   "metadata": {},
   "outputs": [
    {
     "name": "stdout",
     "output_type": "stream",
     "text": [
      "('re509672', 'Filter', 300.0)\n"
     ]
    }
   ],
   "source": [
    "conn = sqlite3.connect('store.db')\n",
    "curs = conn.cursor()\n",
    "\n",
    "sql_text = \"SELECT * FROM Product\"\n",
    "\n",
    "curs.execute(sql_text)\n",
    "\n",
    "for el in curs.fetchall():\n",
    "    print(el)\n",
    "\n",
    "\n",
    "conn.close()"
   ]
  },
  {
   "cell_type": "code",
   "execution_count": 69,
   "metadata": {},
   "outputs": [
    {
     "name": "stdout",
     "output_type": "stream",
     "text": [
      "Введіть артикул товаруre509672\n",
      "Введіть ціну товару400\n"
     ]
    }
   ],
   "source": [
    "#записуємо ціну\n",
    "import datetime\n",
    "\n",
    "conn = sqlite3.connect('store.db')\n",
    "curs = conn.cursor()\n",
    "sql_text = \"\"\"INSERT INTO Cost VALUES(?, ?, ?)\"\"\"\n",
    "\n",
    "part = input('Введіть артикул товару')\n",
    "date = datetime.datetime.now()\n",
    "cost = float(input('Введіть ціну товару'))\n",
    "\n",
    "curs.execute(sql_text, (part, date, cost))\n",
    "conn.commit()\n",
    "\n",
    "conn.close()"
   ]
  },
  {
   "cell_type": "code",
   "execution_count": 72,
   "metadata": {},
   "outputs": [
    {
     "name": "stdout",
     "output_type": "stream",
     "text": [
      "Введіть артикул товаруre509672\n",
      "Введіть кількість товару1\n",
      "Введіть тип операції: 1-прихід || 2-розхід2\n"
     ]
    }
   ],
   "source": [
    "#записуємо прихід\\розхід\n",
    "\n",
    "import datetime\n",
    "\n",
    "conn = sqlite3.connect('store.db')\n",
    "curs = conn.cursor()\n",
    "\n",
    "\n",
    "part = input('Введіть артикул товару')\n",
    "date = datetime.datetime.now()\n",
    "qty = int(input('Введіть кількість товару'))\n",
    "operation_type = input('Введіть тип операції: 1-прихід || 2-розхід')\n",
    "\n",
    "curs.execute(\"SELECT cost, cost_date FROM Cost WHERE part = (?) ORDER BY cost_date \", (part,) )\n",
    "\n",
    "cost = curs.fetchall()[-1][0]\n",
    "\n",
    "\n",
    "sql_text = \"\"\"INSERT INTO Stock VALUES(?, ?, ?, ?, ?)\"\"\"\n",
    "curs.execute(sql_text, (part, date, qty, cost, operation_type))\n",
    "conn.commit()\n",
    "\n",
    "conn.close()"
   ]
  }
 ],
 "metadata": {
  "kernelspec": {
   "display_name": "Python 3",
   "language": "python",
   "name": "python3"
  },
  "language_info": {
   "codemirror_mode": {
    "name": "ipython",
    "version": 3
   },
   "file_extension": ".py",
   "mimetype": "text/x-python",
   "name": "python",
   "nbconvert_exporter": "python",
   "pygments_lexer": "ipython3",
   "version": "3.7.6"
  }
 },
 "nbformat": 4,
 "nbformat_minor": 4
}
