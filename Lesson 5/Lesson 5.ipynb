{
 "cells": [
  {
   "cell_type": "code",
   "execution_count": 64,
   "metadata": {},
   "outputs": [],
   "source": [
    "table_product = \"\"\"CREATE TABLE Product (\n",
    "                      part TEXT PRIMARY KEY, \n",
    "                      part_name TEXT NOT NULL,\n",
    "                      weight REAL\n",
    "                      )\"\"\"\n",
    "\n",
    "table_cost = \"\"\"CREATE TABLE Cost (\n",
    "                  part TEXT,\n",
    "                  cost_date DATETIME NOT NULL,\n",
    "                  cost REAl NOT NULL,\n",
    "                  FOREIGN KEY (part) REFERENCES Product (part)\n",
    "                  )\"\"\"\n",
    "\n",
    "table_stock = \"\"\"CREATE TABLE Stock (\n",
    "                  part TEXT,\n",
    "                  operation_date DATETIME NOT NULL,\n",
    "                  qty INTEGER NOT NULL,\n",
    "                  cost REAL  NOT NULL,\n",
    "                  operation_type TEXT NOT NULL,\n",
    "                  FOREIGN KEY (part) REFERENCES Product (part)\n",
    "                  )\"\"\""
   ]
  },
  {
   "cell_type": "code",
   "execution_count": 65,
   "metadata": {},
   "outputs": [],
   "source": [
    "# створюємо таблиці в БД\n",
    "import sqlite3\n",
    "conn = sqlite3.connect('store.db')\n",
    "\n",
    "curs = conn.cursor()\n",
    "\n",
    "curs.execute(table_product)\n",
    "curs.execute(table_cost)\n",
    "curs.execute(table_stock)\n",
    "\n",
    "conn.close()"
   ]
  },
  {
   "cell_type": "code",
   "execution_count": 66,
   "metadata": {},
   "outputs": [
    {
     "name": "stdout",
     "output_type": "stream",
     "text": [
      "Введіть артикул товаруre509672\n",
      "Введіть назву товаруFilter\n",
      "Введіть вагу товару300\n"
     ]
    }
   ],
   "source": [
    "# вносимо інформацію в таблицю Prodcut\n",
    "\n",
    "conn = sqlite3.connect('store.db')\n",
    "curs = conn.cursor()\n",
    "sql_text = \"\"\"INSERT INTO Product VALUES(?, ?, ?)\"\"\"\n",
    "\n",
    "part = input('Введіть артикул товару')\n",
    "part_name = input('Введіть назву товару')\n",
    "weight = float(input('Введіть вагу товару'))\n",
    "\n",
    "curs.execute(sql_text, (part, part_name, weight))\n",
    "conn.commit()\n",
    "\n",
    "conn.close()"
   ]
  },
  {
   "cell_type": "code",
   "execution_count": 67,
   "metadata": {},
   "outputs": [
    {
     "name": "stdout",
     "output_type": "stream",
     "text": [
      "('re509672', 'Filter', 300.0)\n"
     ]
    }
   ],
   "source": [
    "conn = sqlite3.connect('store.db')\n",
    "curs = conn.cursor()\n",
    "\n",
    "sql_text = \"SELECT * FROM Product\"\n",
    "\n",
    "curs.execute(sql_text)\n",
    "\n",
    "for el in curs.fetchall():\n",
    "    print(el)\n",
    "\n",
    "\n",
    "conn.close()"
   ]
  },
  {
   "cell_type": "code",
   "execution_count": 69,
   "metadata": {},
   "outputs": [
    {
     "name": "stdout",
     "output_type": "stream",
     "text": [
      "Введіть артикул товаруre509672\n",
      "Введіть ціну товару400\n"
     ]
    }
   ],
   "source": [
    "#записуємо ціну\n",
    "import datetime\n",
    "\n",
    "conn = sqlite3.connect('store.db')\n",
    "curs = conn.cursor()\n",
    "sql_text = \"\"\"INSERT INTO Cost VALUES(?, ?, ?)\"\"\"\n",
    "\n",
    "part = input('Введіть артикул товару')\n",
    "date = datetime.datetime.now()\n",
    "cost = float(input('Введіть ціну товару'))\n",
    "\n",
    "curs.execute(sql_text, (part, date, cost))\n",
    "conn.commit()\n",
    "\n",
    "conn.close()"
   ]
  },
  {
   "cell_type": "code",
   "execution_count": 72,
   "metadata": {},
   "outputs": [
    {
     "name": "stdout",
     "output_type": "stream",
     "text": [
      "Введіть артикул товаруre509672\n",
      "Введіть кількість товару1\n",
      "Введіть тип операції: 1-прихід || 2-розхід2\n"
     ]
    }
   ],
   "source": [
    "#записуємо прихід\\розхід\n",
    "\n",
    "import datetime\n",
    "\n",
    "conn = sqlite3.connect('store.db')\n",
    "curs = conn.cursor()\n",
    "\n",
    "\n",
    "part = input('Введіть артикул товару')\n",
    "date = datetime.datetime.now()\n",
    "qty = int(input('Введіть кількість товару'))\n",
    "operation_type = input('Введіть тип операції: 1-прихід || 2-розхід')\n",
    "\n",
    "curs.execute(\"SELECT cost, cost_date FROM Cost WHERE part = (?) ORDER BY cost_date \", (part,) )\n",
    "\n",
    "cost = curs.fetchall()[-1][0]\n",
    "\n",
    "\n",
    "sql_text = \"\"\"INSERT INTO Stock VALUES(?, ?, ?, ?, ?)\"\"\"\n",
    "curs.execute(sql_text, (part, date, qty, cost, operation_type))\n",
    "conn.commit()\n",
    "\n",
    "conn.close()"
   ]
  },
  {
   "cell_type": "code",
   "execution_count": 18,
   "metadata": {},
   "outputs": [
    {
     "name": "stdout",
     "output_type": "stream",
     "text": [
      "['https://smallpacking.agrosem.ua/product/dlya-vinogradu/', 'https://smallpacking.agrosem.ua/product/dlya-vichnozelenih-derev-ta-kushhiv/', 'https://smallpacking.agrosem.ua/product/dlya-vichnozelenih-derev-ta-kushhiv-3/', 'https://smallpacking.agrosem.ua/product/dlya-vichnozelenih-derev-ta-kushhiv-4/', 'https://smallpacking.agrosem.ua/product/dlya-gazonu-5/', 'https://smallpacking.agrosem.ua/product/dlya-gazonu-6/', 'https://smallpacking.agrosem.ua/product/dlya-gazonu/', 'https://smallpacking.agrosem.ua/product/dlya-dekorativnih-listovih-3/', 'https://smallpacking.agrosem.ua/product/dlya-poluniczi/', 'https://smallpacking.agrosem.ua/product/dlya-dekorativnih-listovih/', 'https://smallpacking.agrosem.ua/product/dlya-ovochiv-na-vidkritomu-grunti/', 'https://smallpacking.agrosem.ua/product/dlya-ovochiv-na-vidkritomu-grunti-2/', 'https://smallpacking.agrosem.ua/product/dlya-rozsadi/', 'https://smallpacking.agrosem.ua/product/dlya-teplichnih-ovochiv/', 'https://smallpacking.agrosem.ua/product/dlya-teplichnih-ovochiv-2/', 'https://smallpacking.agrosem.ua/product/dlya-troyand-ta-inshih-kvitiv/']\n"
     ]
    }
   ],
   "source": [
    "import requests \n",
    "from bs4 import BeautifulSoup\n",
    "r = requests.get('https://smallpacking.agrosem.ua/shop/')\n",
    "soup = BeautifulSoup(r.text, 'html.parser')\n",
    "\n",
    "all_products = {}\n",
    "\n",
    "def get_soup(href):\n",
    "    r = requests.get(href)\n",
    "    soup = BeautifulSoup(r.text, 'html.parser')\n",
    "    return soup\n",
    "\n",
    "def product_informations(base, href):\n",
    "    p = get_html_text(href)\n",
    "    sku = p.find('span', class_='sku')\n",
    "    print(sku)\n",
    "    \n",
    "    \n",
    "def all_products_page(page_text):\n",
    "    l = []\n",
    "    for el in soup.find_all('div', class_=\"product-from-category-container\"):\n",
    "        l.append(el.find('a').get('href'))\n",
    "    return l\n",
    "        \n",
    "def all_page(href):\n",
    "    p = get_html_text(href)\n",
    "    list_with_product = all_products_page(p)\n",
    "    print(list_with_product)\n",
    "    \n",
    "all_page('https://smallpacking.agrosem.ua/shop/')\n",
    "    "
   ]
  },
  {
   "cell_type": "code",
   "execution_count": 35,
   "metadata": {},
   "outputs": [
    {
     "data": {
      "text/plain": [
       "{'797756': {'name': 'Добриво для винограду', 'price': 150.0, 'weight': 1},\n",
       " '8362626': {'name': 'Добриво для вічнозелених дерев та кущів',\n",
       "  'price': 150.0,\n",
       "  'weight': 1},\n",
       " '4738184': {'name': 'Добриво для вічнозелених дерев та кущів',\n",
       "  'price': 360.0,\n",
       "  'weight': 3},\n",
       " '5218': {'name': 'Добриво для вічнозелених дерев та кущів',\n",
       "  'price': 995.0,\n",
       "  'weight': 10},\n",
       " '7143174': {'name': 'Добриво для газону', 'price': 360.0, 'weight': 3},\n",
       " '375738': {'name': 'Добриво для газону', 'price': 995.0, 'weight': 10},\n",
       " '789868': {'name': 'Добриво для газону', 'price': 150.0, 'weight': 1},\n",
       " '78747': {'name': 'Добриво для декоративних листових',\n",
       "  'price': 360.0,\n",
       "  'weight': 3},\n",
       " '3593': {'name': 'Добриво для полуниці', 'price': 150.0, 'weight': 1},\n",
       " '33486': {'name': 'Добриво для декоративних листових',\n",
       "  'price': 150.0,\n",
       "  'weight': 1},\n",
       " '198742': {'name': 'Добриво для овочів', 'price': 360.0, 'weight': 3},\n",
       " '88255': {'name': 'Добриво для овочів', 'price': 150.0, 'weight': 1},\n",
       " '68183': {'name': 'Добриво для розсади', 'price': 150.0, 'weight': 1},\n",
       " '51561': {'name': 'Добриво для тепличних овочів',\n",
       "  'price': 150.0,\n",
       "  'weight': 1},\n",
       " '5656841': {'name': 'Добриво для тепличних овочів',\n",
       "  'price': 360.0,\n",
       "  'weight': 3},\n",
       " '2217672': {'name': 'Добриво для троянд', 'price': 150.0, 'weight': 1},\n",
       " '439226': {'name': 'Добриво для фруктових та горіхових дерев',\n",
       "  'price': 360.0,\n",
       "  'weight': 3},\n",
       " '3177412': {'name': 'Добриво для фруктових та горіхових дерев',\n",
       "  'price': 150.0,\n",
       "  'weight': 1},\n",
       " '1297': {'name': 'Добриво для ягідних чагарників',\n",
       "  'price': 360.0,\n",
       "  'weight': 3},\n",
       " '91897': {'name': 'Добриво для ягідних чагарників',\n",
       "  'price': 150.0,\n",
       "  'weight': 1},\n",
       " '61169': {'name': 'Добриво універсальне грунтове',\n",
       "  'price': 150.0,\n",
       "  'weight': 1},\n",
       " '6651824': {'name': 'Добриво універсальне грунтове',\n",
       "  'price': 360.0,\n",
       "  'weight': 3},\n",
       " '5227876': {'name': 'Добриво універсальне грунтове',\n",
       "  'price': 995.0,\n",
       "  'weight': 10},\n",
       " '32237': {'name': 'Добриво для декоративних листових',\n",
       "  'price': 360.0,\n",
       "  'weight': 3},\n",
       " '4165215': {'name': 'Добриво для вічнозелених дерев та кущів',\n",
       "  'price': 995.0,\n",
       "  'weight': 10},\n",
       " '682645': {'name': 'Добриво універсальне грунтове',\n",
       "  'price': 360.0,\n",
       "  'weight': 3},\n",
       " '7435': {'name': 'Добриво універсальне грунтове',\n",
       "  'price': 150.0,\n",
       "  'weight': 1},\n",
       " '9354141': {'name': 'Добриво для газону', 'price': 360.0, 'weight': 3},\n",
       " '1955': {'name': 'Добриво для вічнозелених дерев та кущів',\n",
       "  'price': 150.0,\n",
       "  'weight': 1},\n",
       " '455799': {'name': 'Добриво для газону', 'price': 150.0, 'weight': 1},\n",
       " '991645': {'name': 'Добриво для декоративних листових',\n",
       "  'price': 150.0,\n",
       "  'weight': 1},\n",
       " '726319': {'name': 'Добриво для вічнозелених дерев та кущів',\n",
       "  'price': 360.0,\n",
       "  'weight': 3},\n",
       " '16762': {'name': 'Добриво для газону', 'price': 995.0, 'weight': 10},\n",
       " '17477': {'name': 'Добриво універсальне грунтове',\n",
       "  'price': 995.0,\n",
       "  'weight': 10}}"
      ]
     },
     "execution_count": 35,
     "metadata": {},
     "output_type": "execute_result"
    }
   ],
   "source": [
    "import requests \n",
    "from bs4 import BeautifulSoup\n",
    "r = requests.get('https://smallpacking.agrosem.ua/shop/')\n",
    "soup = BeautifulSoup(r.text, 'html.parser')\n",
    "\n",
    "all_products = {}\n",
    "\n",
    "# def get_soup(href):\n",
    "#     r = requests.get(href)\n",
    "#     soup = BeautifulSoup(r.text, 'html.parser')\n",
    "#     return soup\n",
    "for i in range(1, 4):\n",
    "    r = requests.get(f'https://smallpacking.agrosem.ua/shop/page/{i}/')\n",
    "    soup = BeautifulSoup(r.text, 'html.parser')\n",
    "    for el in soup.find_all('div', class_=\"product-from-category-container\"):\n",
    "        href = el.find('a').get('href')\n",
    "        r = requests.get(href)\n",
    "        soup = BeautifulSoup(r.text, 'html.parser')\n",
    "        sku = soup.find('span', class_='sku').text.strip('SKU: ')\n",
    "        name = soup.find('div', class_=\"atributes-description\").find('h2').text\n",
    "        price = float(soup.find('span', class_='regular-price').text.rstrip(' грн'))\n",
    "        p = soup.find('span', class_=\"type-packaging-name\").text\n",
    "        if p == 'Коробка':\n",
    "            weight = 1\n",
    "        elif p == 'Мішок':\n",
    "            weight = 3\n",
    "        elif p == 'Відро':\n",
    "            weight = 10\n",
    "        else:\n",
    "            weight = None\n",
    "\n",
    "        all_products[sku] = {'name':name, 'price':price, 'weight':weight}\n",
    "        \n",
    "        \n",
    "all_products"
   ]
  },
  {
   "cell_type": "code",
   "execution_count": 36,
   "metadata": {},
   "outputs": [],
   "source": [
    "import sqlite3 \n",
    "conn = sqlite3.connect('store.db')\n",
    "curs = conn.cursor()\n",
    "curs.execute('DELETE FROM Product')\n",
    "\n",
    "sql_text = \"\"\"INSERT INTO Product VALUES(?, ?, ?)\"\"\"\n",
    "\n",
    "\n",
    "for k,v in all_products.items():\n",
    "    curs.execute(sql_text, (k, v['name'], v['weight']))\n",
    "    conn.commit()\n",
    "\n",
    "conn.close()\n",
    "    \n"
   ]
  },
  {
   "cell_type": "code",
   "execution_count": 38,
   "metadata": {},
   "outputs": [
    {
     "name": "stdout",
     "output_type": "stream",
     "text": [
      "('797756', 'Добриво для винограду', 1.0)\n",
      "('8362626', 'Добриво для вічнозелених дерев та кущів', 1.0)\n",
      "('4738184', 'Добриво для вічнозелених дерев та кущів', 3.0)\n",
      "('5218', 'Добриво для вічнозелених дерев та кущів', 10.0)\n",
      "('7143174', 'Добриво для газону', 3.0)\n",
      "('375738', 'Добриво для газону', 10.0)\n",
      "('789868', 'Добриво для газону', 1.0)\n",
      "('78747', 'Добриво для декоративних листових', 3.0)\n",
      "('3593', 'Добриво для полуниці', 1.0)\n",
      "('33486', 'Добриво для декоративних листових', 1.0)\n",
      "('198742', 'Добриво для овочів', 3.0)\n",
      "('88255', 'Добриво для овочів', 1.0)\n",
      "('68183', 'Добриво для розсади', 1.0)\n",
      "('51561', 'Добриво для тепличних овочів', 1.0)\n",
      "('5656841', 'Добриво для тепличних овочів', 3.0)\n",
      "('2217672', 'Добриво для троянд', 1.0)\n",
      "('439226', 'Добриво для фруктових та горіхових дерев', 3.0)\n",
      "('3177412', 'Добриво для фруктових та горіхових дерев', 1.0)\n",
      "('1297', 'Добриво для ягідних чагарників', 3.0)\n",
      "('91897', 'Добриво для ягідних чагарників', 1.0)\n",
      "('61169', 'Добриво універсальне грунтове', 1.0)\n",
      "('6651824', 'Добриво універсальне грунтове', 3.0)\n",
      "('5227876', 'Добриво універсальне грунтове', 10.0)\n",
      "('32237', 'Добриво для декоративних листових', 3.0)\n",
      "('4165215', 'Добриво для вічнозелених дерев та кущів', 10.0)\n",
      "('682645', 'Добриво універсальне грунтове', 3.0)\n",
      "('7435', 'Добриво універсальне грунтове', 1.0)\n",
      "('9354141', 'Добриво для газону', 3.0)\n",
      "('1955', 'Добриво для вічнозелених дерев та кущів', 1.0)\n",
      "('455799', 'Добриво для газону', 1.0)\n",
      "('991645', 'Добриво для декоративних листових', 1.0)\n",
      "('726319', 'Добриво для вічнозелених дерев та кущів', 3.0)\n",
      "('16762', 'Добриво для газону', 10.0)\n",
      "('17477', 'Добриво універсальне грунтове', 10.0)\n"
     ]
    }
   ],
   "source": [
    "import sqlite3 \n",
    "conn = sqlite3.connect('store.db')\n",
    "curs = conn.cursor()\n",
    "curs.execute('SELECT * FROM Product')\n",
    "\n",
    "for el in curs.fetchall():\n",
    "    print(el)\n",
    "\n",
    "conn.close()"
   ]
  },
  {
   "cell_type": "code",
   "execution_count": 42,
   "metadata": {},
   "outputs": [],
   "source": [
    "import sqlite3 \n",
    "from datetime import datetime, timedelta\n",
    "import random\n",
    "conn = sqlite3.connect('store.db')\n",
    "curs = conn.cursor()\n",
    "\n",
    "\n",
    "sql_text = \"\"\"INSERT INTO Cost VALUES(?, ?, ?)\"\"\"\n",
    "\n",
    "\n",
    "for k,v in all_products.items():\n",
    "    curs.execute(sql_text, (k, datetime.now() + timedelta(days=random.randrange(100)), v['price']))\n",
    "    conn.commit()\n",
    "\n",
    "conn.close()"
   ]
  },
  {
   "cell_type": "code",
   "execution_count": null,
   "metadata": {},
   "outputs": [],
   "source": [
    " \"\"\"CREATE TABLE Stock (\n",
    "                  part TEXT,\n",
    "                  operation_date DATETIME NOT NULL,\n",
    "                  qty INTEGER NOT NULL,\n",
    "                  cost REAL  NOT NULL,\n",
    "                  operation_type TEXT NOT NULL,\n",
    "                  FOREIGN KEY (part) REFERENCES Product (part)\n",
    "                  )\"\"\""
   ]
  },
  {
   "cell_type": "code",
   "execution_count": 45,
   "metadata": {},
   "outputs": [],
   "source": [
    "import sqlite3 \n",
    "from datetime import datetime, timedelta\n",
    "import random\n",
    "conn = sqlite3.connect('store.db')\n",
    "curs = conn.cursor()\n",
    "\n",
    "\n",
    "sql_text = \"\"\"INSERT INTO Stock VALUES(?, ?, ?, ?, ?)\"\"\"\n",
    "\n",
    "def product_cost(part):\n",
    "    curs.execute(\"SELECT cost, cost_date FROM Cost WHERE part = (?) ORDER BY cost_date \", (part,) )\n",
    "    cost = curs.fetchall()[-1][0]\n",
    "    return cost\n",
    "\n",
    "for k in all_products:\n",
    "    for i in range(random.randrange(10)):\n",
    "        curs.execute(sql_text, (k \n",
    "                                ,datetime.now() + timedelta(days=random.randrange(50))\n",
    "                               , random.randrange(10, 20)\n",
    "                               , product_cost(k)\n",
    "                               , 'Розхід'))\n",
    "        conn.commit()\n",
    "\n",
    "conn.close()"
   ]
  },
  {
   "cell_type": "code",
   "execution_count": 6,
   "metadata": {},
   "outputs": [],
   "source": [
    "import sqlite3\n",
    "\n",
    "def result(sql_text):\n",
    "    conn = sqlite3.connect('store.db')\n",
    "    curs = conn.cursor()\n",
    "    curs.execute(sql_text)\n",
    "\n",
    "    for row in curs.fetchall():\n",
    "        print(row)\n",
    "\n",
    "    conn.close()"
   ]
  },
  {
   "cell_type": "code",
   "execution_count": 9,
   "metadata": {},
   "outputs": [
    {
     "name": "stdout",
     "output_type": "stream",
     "text": [
      "('797756', '2021-01-06 21:08:38.403122', 187, 150.0, 'Прихід')\n",
      "('797756', '2020-12-14 21:08:38.419080', 180, 150.0, 'Прихід')\n",
      "('797756', '2020-12-20 21:08:38.429372', 186, 150.0, 'Прихід')\n",
      "('797756', '2021-01-15 21:08:38.439421', 121, 150.0, 'Прихід')\n",
      "('797756', '2020-12-17 21:08:38.450331', 176, 150.0, 'Прихід')\n",
      "('797756', '2020-12-19 21:08:38.458812', 138, 150.0, 'Прихід')\n",
      "('797756', '2021-01-08 21:08:38.467777', 152, 150.0, 'Прихід')\n",
      "('797756', '2021-01-01 21:08:38.476758', 160, 150.0, 'Прихід')\n",
      "('797756', '2021-01-09 21:08:38.485785', 199, 150.0, 'Прихід')\n",
      "('8362626', '2020-12-08 21:08:38.494950', 147, 150.0, 'Прихід')\n"
     ]
    }
   ],
   "source": [
    "script_1 = \"\"\"\n",
    "SELECT *\n",
    "FROM Stock\n",
    "LIMIT 10\n",
    "\"\"\"\n",
    "result(script_1)"
   ]
  },
  {
   "cell_type": "code",
   "execution_count": 14,
   "metadata": {},
   "outputs": [
    {
     "name": "stdout",
     "output_type": "stream",
     "text": [
      "('797756', 187)\n",
      "('797756', 180)\n",
      "('797756', 186)\n",
      "('797756', 121)\n",
      "('797756', 176)\n",
      "('797756', 138)\n",
      "('797756', 152)\n",
      "('797756', 160)\n",
      "('797756', 199)\n",
      "('8362626', 147)\n"
     ]
    }
   ],
   "source": [
    "script_2 = \"\"\"\n",
    "SELECT Part as p, Qty as q\n",
    "FROM STOCK\n",
    "LIMIT 10\n",
    "\"\"\"\n",
    "result(script_2)"
   ]
  },
  {
   "cell_type": "code",
   "execution_count": 15,
   "metadata": {},
   "outputs": [
    {
     "name": "stdout",
     "output_type": "stream",
     "text": [
      "('8362626', '2020-12-08 21:08:38.494950', 147, 150.0, 'Прихід')\n",
      "('8362626', '2020-12-23 21:08:38.503847', 168, 150.0, 'Прихід')\n",
      "('8362626', '2020-12-22 21:08:38.513941', 160, 150.0, 'Прихід')\n",
      "('8362626', '2020-12-16 21:08:38.523009', 106, 150.0, 'Прихід')\n",
      "('8362626', '2020-12-30 21:08:38.532171', 176, 150.0, 'Прихід')\n",
      "('8362626', '2021-01-06 21:08:38.541564', 123, 150.0, 'Прихід')\n",
      "('8362626', '2021-01-26 21:08:38.550416', 192, 150.0, 'Прихід')\n",
      "('8362626', '2021-01-21 21:09:16.925275', 15, 150.0, 'Розхід')\n",
      "('8362626', '2021-01-01 21:09:16.934318', 14, 150.0, 'Розхід')\n",
      "('8362626', '2020-12-15 21:09:16.944245', 17, 150.0, 'Розхід')\n",
      "('8362626', '2021-01-02 21:09:16.953432', 16, 150.0, 'Розхід')\n",
      "('8362626', '2021-01-26 21:09:16.963405', 15, 150.0, 'Розхід')\n"
     ]
    }
   ],
   "source": [
    "script_3 = \"\"\"\n",
    "SELECT *\n",
    "FROM STOCK\n",
    "WHERE Part = '8362626'\n",
    "\"\"\"\n",
    "result(script_3)"
   ]
  },
  {
   "cell_type": "code",
   "execution_count": 17,
   "metadata": {},
   "outputs": [
    {
     "name": "stdout",
     "output_type": "stream",
     "text": [
      "('797756', '2021-01-06 21:08:38.403122', 187, 150.0, 'Прихід')\n",
      "('797756', '2020-12-14 21:08:38.419080', 180, 150.0, 'Прихід')\n",
      "('797756', '2020-12-20 21:08:38.429372', 186, 150.0, 'Прихід')\n",
      "('797756', '2021-01-15 21:08:38.439421', 121, 150.0, 'Прихід')\n",
      "('797756', '2020-12-17 21:08:38.450331', 176, 150.0, 'Прихід')\n",
      "('797756', '2020-12-19 21:08:38.458812', 138, 150.0, 'Прихід')\n",
      "('797756', '2021-01-08 21:08:38.467777', 152, 150.0, 'Прихід')\n",
      "('797756', '2021-01-01 21:08:38.476758', 160, 150.0, 'Прихід')\n",
      "('797756', '2021-01-09 21:08:38.485785', 199, 150.0, 'Прихід')\n",
      "('8362626', '2020-12-08 21:08:38.494950', 147, 150.0, 'Прихід')\n"
     ]
    }
   ],
   "source": [
    "script_4 = \"\"\"\n",
    "SELECT *\n",
    "FROM STOCK\n",
    "WHERE operation_type = 'Прихід'\n",
    "LIMIT 10\n",
    "\"\"\"\n",
    "result(script_4)"
   ]
  },
  {
   "cell_type": "code",
   "execution_count": 21,
   "metadata": {},
   "outputs": [
    {
     "name": "stdout",
     "output_type": "stream",
     "text": [
      "(10916720.0,)\n"
     ]
    }
   ],
   "source": [
    "script_6 = \"\"\"\n",
    "SELECT SUM(cost*qty)\n",
    "FROM STOCK\n",
    "\"\"\"\n",
    "result(script_6)"
   ]
  },
  {
   "cell_type": "code",
   "execution_count": 25,
   "metadata": {},
   "outputs": [
    {
     "name": "stdout",
     "output_type": "stream",
     "text": [
      "('797756',)\n",
      "('8362626',)\n",
      "('4738184',)\n",
      "('5218',)\n",
      "('7143174',)\n",
      "('375738',)\n",
      "('789868',)\n",
      "('78747',)\n",
      "('3593',)\n",
      "('33486',)\n",
      "('198742',)\n",
      "('88255',)\n",
      "('68183',)\n",
      "('51561',)\n",
      "('2217672',)\n",
      "('439226',)\n",
      "('3177412',)\n",
      "('1297',)\n",
      "('91897',)\n",
      "('61169',)\n",
      "('6651824',)\n",
      "('5227876',)\n",
      "('32237',)\n",
      "('4165215',)\n",
      "('682645',)\n",
      "('7435',)\n",
      "('9354141',)\n",
      "('1955',)\n",
      "('455799',)\n",
      "('991645',)\n",
      "('726319',)\n",
      "('16762',)\n",
      "('5656841',)\n"
     ]
    }
   ],
   "source": [
    "script_7 = \"\"\"\n",
    "SELECT DISTINCT Part\n",
    "FROM STOCK\n",
    "\"\"\"\n",
    "result(script_7)"
   ]
  },
  {
   "cell_type": "code",
   "execution_count": 29,
   "metadata": {},
   "outputs": [
    {
     "name": "stdout",
     "output_type": "stream",
     "text": [
      "('797756', '2021-01-09 21:08:38.485785', 199, 150.0, 'Прихід')\n",
      "('375738', '2020-12-14 21:08:38.750381', 199, 995.0, 'Прихід')\n",
      "('3177412', '2020-12-11 21:08:39.377107', 199, 150.0, 'Прихід')\n"
     ]
    }
   ],
   "source": [
    "script_8 = \"\"\"\n",
    "SELECT *\n",
    "FROM Stock\n",
    "WHERE qty = (SELECT MAX(qty)\n",
    "             FROM Stock\n",
    "             WHERE operation_type = 'Прихід')\n",
    "\"\"\"\n",
    "result(script_8)"
   ]
  },
  {
   "cell_type": "code",
   "execution_count": 54,
   "metadata": {},
   "outputs": [
    {
     "name": "stdout",
     "output_type": "stream",
     "text": [
      "('1297', 59)\n",
      "('16762', 133)\n",
      "('1955', 304)\n",
      "('198742', 232)\n",
      "('2217672', -29)\n",
      "('3177412', 470)\n",
      "('32237', 233)\n",
      "('33486', 645)\n",
      "('3593', 296)\n",
      "('375738', 653)\n",
      "('4165215', 718)\n",
      "('439226', 402)\n",
      "('455799', 604)\n",
      "('4738184', 690)\n",
      "('51561', 345)\n",
      "('5218', 319)\n",
      "('5227876', 914)\n",
      "('5656841', -11)\n",
      "('61169', 396)\n",
      "('6651824', 379)\n",
      "('68183', 622)\n",
      "('682645', 444)\n",
      "('7143174', 405)\n",
      "('726319', 528)\n",
      "('7435', -19)\n",
      "('78747', 330)\n",
      "('789868', 506)\n",
      "('797756', 669)\n",
      "('8362626', 740)\n",
      "('88255', 272)\n",
      "('91897', 130)\n",
      "('9354141', 344)\n",
      "('991645', -75)\n"
     ]
    }
   ],
   "source": [
    "script_9 = \"\"\"\n",
    "SELECT part, SUM(qty)\n",
    "FROM \n",
    "    (SELECT part, SUM(qty) as qty\n",
    "    FROM Stock\n",
    "    WHERE operation_type = 'Прихід' and operation_date < '2021-01-01'\n",
    "    GROUP BY part\n",
    "    \n",
    "\n",
    "    UNION \n",
    "\n",
    "    SELECT part, -SUM(qty)\n",
    "    FROM Stock\n",
    "    WHERE operation_type = 'Розхід' and  operation_date < '2021-01-01'\n",
    "    GROUP BY part)\n",
    "GROUP BY part\n",
    "\"\"\"\n",
    "result(script_9)"
   ]
  },
  {
   "cell_type": "code",
   "execution_count": 57,
   "metadata": {},
   "outputs": [
    {
     "name": "stdout",
     "output_type": "stream",
     "text": [
      "('1955', 1342)\n",
      "('33486', 1204)\n",
      "('375738', 1385)\n",
      "('4165215', 1121)\n",
      "('455799', 1101)\n",
      "('4738184', 1347)\n",
      "('5227876', 1367)\n",
      "('68183', 1088)\n",
      "('682645', 1214)\n",
      "('797756', 1473)\n"
     ]
    }
   ],
   "source": [
    "script_9 = \"\"\"\n",
    "SELECT part, SUM(qty)\n",
    "FROM \n",
    "    (SELECT part, SUM(qty) as qty\n",
    "    FROM Stock\n",
    "    WHERE operation_type = 'Прихід' \n",
    "    GROUP BY part\n",
    "    \n",
    "\n",
    "    UNION \n",
    "\n",
    "    SELECT part, -SUM(qty)\n",
    "    FROM Stock\n",
    "    WHERE operation_type = 'Розхід' \n",
    "    GROUP BY part)\n",
    "    \n",
    "GROUP BY part\n",
    "HAVING SUM(qty) > 1000\n",
    "\"\"\"\n",
    "result(script_9)"
   ]
  },
  {
   "cell_type": "code",
   "execution_count": 72,
   "metadata": {},
   "outputs": [
    {
     "name": "stdout",
     "output_type": "stream",
     "text": [
      "('797756', '2021-01-06 21:08:38.403122', 187, 150.0, 'Прихід')\n",
      "('797756', '2020-12-14 21:08:38.419080', 180, 150.0, 'Прихід')\n",
      "('797756', '2020-12-20 21:08:38.429372', 186, 150.0, 'Прихід')\n",
      "('797756', '2021-01-15 21:08:38.439421', 121, 150.0, 'Прихід')\n",
      "('797756', '2020-12-17 21:08:38.450331', 176, 150.0, 'Прихід')\n",
      "('797756', '2020-12-19 21:08:38.458812', 138, 150.0, 'Прихід')\n",
      "('797756', '2021-01-08 21:08:38.467777', 152, 150.0, 'Прихід')\n",
      "('797756', '2021-01-01 21:08:38.476758', 160, 150.0, 'Прихід')\n",
      "('797756', '2021-01-09 21:08:38.485785', 199, 150.0, 'Прихід')\n"
     ]
    }
   ],
   "source": [
    "script_10 = \"\"\"\n",
    "SELECT *\n",
    "FROM Stock\n",
    "WHERE operation_type = 'Прихід'  AND part =  (SELECT Part\n",
    "    FROM \n",
    "        (SELECT Part, MAX(qty)\n",
    "        FROM \n",
    "            (SELECT part, SUM(qty) as qty\n",
    "            FROM \n",
    "                (SELECT part, SUM(qty) as qty\n",
    "                FROM Stock\n",
    "                WHERE operation_type = 'Прихід' \n",
    "                GROUP BY part\n",
    "\n",
    "\n",
    "                UNION \n",
    "\n",
    "                SELECT part, -SUM(qty)\n",
    "                FROM Stock\n",
    "                WHERE operation_type = 'Розхід' \n",
    "                GROUP BY part)\n",
    "\n",
    "            GROUP BY part)))\n",
    "\n",
    "\"\"\"\n",
    "result(script_10)"
   ]
  },
  {
   "cell_type": "code",
   "execution_count": 76,
   "metadata": {},
   "outputs": [
    {
     "name": "stdout",
     "output_type": "stream",
     "text": [
      "('2020', '12', 910)\n",
      "('2021', '01', 1041)\n"
     ]
    }
   ],
   "source": [
    "script_11 = \"\"\"\n",
    "SELECT strftime('%Y', operation_date), strftime('%m', operation_date),  SUM(qty)\n",
    "FROM Stock\n",
    "WHERE operation_type = 'Розхід'\n",
    "GROUP BY strftime('%Y', operation_date), strftime('%m', operation_date)\n",
    "\"\"\"\n",
    "result(script_11)"
   ]
  },
  {
   "cell_type": "code",
   "execution_count": 78,
   "metadata": {},
   "outputs": [
    {
     "name": "stdout",
     "output_type": "stream",
     "text": [
      "('1955', 1342, 1342.0)\n",
      "('33486', 1204, 1204.0)\n",
      "('375738', 1385, 13850.0)\n",
      "('4165215', 1121, 11210.0)\n",
      "('455799', 1101, 1101.0)\n",
      "('4738184', 1347, 4041.0)\n",
      "('5227876', 1367, 13670.0)\n",
      "('68183', 1088, 1088.0)\n",
      "('682645', 1214, 3642.0)\n",
      "('797756', 1473, 1473.0)\n"
     ]
    }
   ],
   "source": [
    "script_12 = \"\"\"\n",
    "SELECT t1.part, SUM(t1.qty), t2.weight * SUM(t1.qty)\n",
    "FROM \n",
    "    (SELECT part, SUM(qty) as qty\n",
    "    FROM Stock\n",
    "    WHERE operation_type = 'Прихід' \n",
    "    GROUP BY part\n",
    "    \n",
    "\n",
    "    UNION \n",
    "\n",
    "    SELECT part, -SUM(qty)\n",
    "    FROM Stock\n",
    "    WHERE operation_type = 'Розхід' \n",
    "    GROUP BY part) as t1\n",
    "INNER JOIN Product as t2 ON t1.part = t2.part\n",
    "    \n",
    "GROUP BY t1.part\n",
    "HAVING SUM(t1.qty) > 1000\n",
    "\"\"\"\n",
    "result(script_12)"
   ]
  },
  {
   "cell_type": "code",
   "execution_count": null,
   "metadata": {},
   "outputs": [],
   "source": []
  }
 ],
 "metadata": {
  "kernelspec": {
   "display_name": "Python 3",
   "language": "python",
   "name": "python3"
  },
  "language_info": {
   "codemirror_mode": {
    "name": "ipython",
    "version": 3
   },
   "file_extension": ".py",
   "mimetype": "text/x-python",
   "name": "python",
   "nbconvert_exporter": "python",
   "pygments_lexer": "ipython3",
   "version": "3.7.6"
  }
 },
 "nbformat": 4,
 "nbformat_minor": 4
}
